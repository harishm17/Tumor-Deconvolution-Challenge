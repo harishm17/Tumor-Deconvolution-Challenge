{
 "cells": [
  {
   "cell_type": "code",
   "execution_count": 1,
   "id": "454f3eaa",
   "metadata": {},
   "outputs": [],
   "source": [
    "data= readRDS(\"./train_samples.rds\")\n",
    "\n",
    "metadata = read.table(\"./Deconv_training_datasets_tidy.txt\",\n",
    "                      sep = \"\\t\",\n",
    "                      header = TRUE,\n",
    "                      stringsAsFactors = FALSE)"
   ]
  },
  {
   "cell_type": "code",
   "execution_count": 2,
   "id": "f2e3a9b4",
   "metadata": {},
   "outputs": [],
   "source": [
    "lr= rank(data*-1,ties.method=\"max\")"
   ]
  },
  {
   "cell_type": "code",
   "execution_count": null,
   "id": "076dd516",
   "metadata": {},
   "outputs": [],
   "source": [
    "lr=log2(lr)\n",
    "lr= lr*-1\n",
    "lr= lr+ log2(length(lr))\n",
    "res=lr"
   ]
  },
  {
   "cell_type": "code",
   "execution_count": null,
   "id": "e1ed6851",
   "metadata": {},
   "outputs": [],
   "source": []
  }
 ],
 "metadata": {
  "kernelspec": {
   "display_name": "R",
   "language": "R",
   "name": "ir"
  },
  "language_info": {
   "codemirror_mode": "r",
   "file_extension": ".r",
   "mimetype": "text/x-r-source",
   "name": "R",
   "pygments_lexer": "r",
   "version": "3.6.1"
  }
 },
 "nbformat": 4,
 "nbformat_minor": 5
}
